{
 "cells": [
  {
   "cell_type": "code",
   "execution_count": 10,
   "id": "b1f793a7-db01-490d-9c70-5aa3a4fd25ea",
   "metadata": {},
   "outputs": [],
   "source": [
    "from transformers import M2M100ForConditionalGeneration, M2M100Tokenizer"
   ]
  },
  {
   "cell_type": "code",
   "execution_count": 11,
   "id": "d5a447f8-7eb5-4cf2-95c3-450e267ce674",
   "metadata": {},
   "outputs": [],
   "source": [
    "def translate_m2m(text, src_lang=\"en\", tgt_lang=\"gu\"):\n",
    "    model_name = \"facebook/m2m100_418M\"\n",
    "    tokenizer = M2M100Tokenizer.from_pretrained(model_name)\n",
    "    model = M2M100ForConditionalGeneration.from_pretrained(model_name)\n",
    "\n",
    "    tokenizer.src_lang = src_lang\n",
    "    inputs = tokenizer(text, return_tensors=\"pt\")\n",
    "\n",
    "    generated_tokens = model.generate(**inputs, forced_bos_token_id=tokenizer.get_lang_id(tgt_lang))\n",
    "    return tokenizer.decode(generated_tokens[0], skip_special_tokens=True)"
   ]
  },
  {
   "cell_type": "code",
   "execution_count": 15,
   "id": "11b07fdb-4247-4d24-9a8a-80e8957fd9ed",
   "metadata": {},
   "outputs": [
    {
     "name": "stdout",
     "output_type": "stream",
     "text": [
      "नमस्ते, आप कैसे हैं?\n"
     ]
    }
   ],
   "source": [
    "print(translate_m2m(\"Hello, how are you?\", src_lang=\"en\", tgt_lang=\"hi\"))"
   ]
  },
  {
   "cell_type": "code",
   "execution_count": 16,
   "id": "62f357ce-45d5-4793-86f0-64a2f439262a",
   "metadata": {},
   "outputs": [],
   "source": [
    "text = \"Machine learning is a type of artificial intelligence (AI) that allows systems to learn and improve from data without being explicitly programmed\""
   ]
  },
  {
   "cell_type": "code",
   "execution_count": 17,
   "id": "884c554b-0c2c-4611-aa6a-e212c622e6a9",
   "metadata": {},
   "outputs": [
    {
     "name": "stdout",
     "output_type": "stream",
     "text": [
      "\n",
      "\n",
      "*******************************************\n",
      "\n",
      "\n",
      "मशीन सीखना एक प्रकार का कृत्रिम बुद्धि (एआई) है जो सिस्टम को स्पष्ट रूप से प्रोग्राम किए बिना डेटा से सीखने और सुधार करने की अनुमति देता है\n",
      "\n",
      "\n",
      "*******************************************\n",
      "\n",
      "\n"
     ]
    }
   ],
   "source": [
    "print(\"\\n\\n*******************************************\\n\\n\")\n",
    "print(translate_m2m(text, src_lang=\"en\", tgt_lang=\"hi\"))\n",
    "print(\"\\n\\n*******************************************\\n\\n\")"
   ]
  },
  {
   "cell_type": "code",
   "execution_count": 19,
   "id": "6c94bd97-c55c-4c64-af41-5d837d6344e7",
   "metadata": {},
   "outputs": [
    {
     "name": "stdout",
     "output_type": "stream",
     "text": [
      "\n",
      "\n",
      "*******************************************\n",
      "\n",
      "\n",
      "L'apprentissage en machine est un type d'intelligence artificielle (AI) qui permet aux systèmes d'apprendre et d'améliorer des données sans être explicitement programmés.\n",
      "\n",
      "\n",
      "*******************************************\n",
      "\n",
      "\n"
     ]
    }
   ],
   "source": [
    "text = \"Machine learning is a type of artificial intelligence (AI) that allows systems to learn and improve from data without being explicitly programmed\"\n",
    "\n",
    "print(\"\\n\\n*******************************************\\n\\n\")\n",
    "print(translate_m2m(text, src_lang=\"en\", tgt_lang=\"fr\"))\n",
    "print(\"\\n\\n*******************************************\\n\\n\")"
   ]
  },
  {
   "cell_type": "code",
   "execution_count": 20,
   "id": "c4eab566-0ee0-47d5-9fa9-a3d4765fe2bd",
   "metadata": {},
   "outputs": [
    {
     "name": "stdout",
     "output_type": "stream",
     "text": [
      "\n",
      "\n",
      "*******************************************\n",
      "\n",
      "\n",
      "기계 학습은 시스템이 명시적으로 프로그래밍되지 않고 데이터를 배우고 개선할 수 있는 유형의 인공 지능(AI)입니다.\n",
      "\n",
      "\n",
      "*******************************************\n",
      "\n",
      "\n"
     ]
    }
   ],
   "source": [
    "text = \"Machine learning is a type of artificial intelligence (AI) that allows systems to learn and improve from data without being explicitly programmed\"\n",
    "\n",
    "print(\"\\n\\n*******************************************\\n\\n\")\n",
    "print(translate_m2m(text, src_lang=\"en\", tgt_lang=\"ko\"))\n",
    "print(\"\\n\\n*******************************************\\n\\n\")"
   ]
  },
  {
   "cell_type": "code",
   "execution_count": 22,
   "id": "ccbc8d63-9f04-4937-9dce-2e5941f4be1a",
   "metadata": {},
   "outputs": [
    {
     "name": "stdout",
     "output_type": "stream",
     "text": [
      "\n",
      "\n",
      "*******************************************\n",
      "\n",
      "\n",
      "Machine learning is a type of artificial intelligence (AI) in which the system can learn and improve data without expressly programming.\n",
      "\n",
      "\n",
      "*******************************************\n",
      "\n",
      "\n"
     ]
    }
   ],
   "source": [
    "text = \"기계 학습은 시스템이 명시적으로 프로그래밍되지 않고 데이터를 배우고 개선할 수 있는 유형의 인공 지능(AI)입니다.\"\n",
    "\n",
    "print(\"\\n\\n*******************************************\\n\\n\")\n",
    "print(translate_m2m(text, src_lang=\"ko\", tgt_lang=\"en\"))\n",
    "print(\"\\n\\n*******************************************\\n\\n\")"
   ]
  },
  {
   "cell_type": "code",
   "execution_count": 28,
   "id": "08fdb4a4-7c58-4b4d-a32e-6e1b69cb7153",
   "metadata": {},
   "outputs": [
    {
     "name": "stdout",
     "output_type": "stream",
     "text": [
      "\n",
      "\n",
      "*******************************************\n",
      "\n",
      "\n",
      "Maschinelles Lernen ist eine Art künstlicher Intelligenz (AI), in der das System Daten ohne ausdrückliche Programmierung lernen und verbessern kann.\n",
      "\n",
      "\n",
      "*******************************************\n",
      "\n",
      "\n"
     ]
    }
   ],
   "source": [
    "text = \"Machine learning is a type of artificial intelligence (AI) in which the system can learn and improve data without expressly programming.\"\n",
    "\n",
    "print(\"\\n\\n*******************************************\\n\\n\")\n",
    "print(translate_m2m(text, src_lang=\"en\", tgt_lang=\"de\"))\n",
    "print(\"\\n\\n*******************************************\\n\\n\")"
   ]
  },
  {
   "cell_type": "code",
   "execution_count": 26,
   "id": "3ea2ccd4-12ec-4271-98a3-4db0b3496305",
   "metadata": {},
   "outputs": [
    {
     "name": "stdout",
     "output_type": "stream",
     "text": [
      "dict_keys(['af', 'am', 'ar', 'ast', 'az', 'ba', 'be', 'bg', 'bn', 'br', 'bs', 'ca', 'ceb', 'cs', 'cy', 'da', 'de', 'el', 'en', 'es', 'et', 'fa', 'ff', 'fi', 'fr', 'fy', 'ga', 'gd', 'gl', 'gu', 'ha', 'he', 'hi', 'hr', 'ht', 'hu', 'hy', 'id', 'ig', 'ilo', 'is', 'it', 'ja', 'jv', 'ka', 'kk', 'km', 'kn', 'ko', 'lb', 'lg', 'ln', 'lo', 'lt', 'lv', 'mg', 'mk', 'ml', 'mn', 'mr', 'ms', 'my', 'ne', 'nl', 'no', 'ns', 'oc', 'or', 'pa', 'pl', 'ps', 'pt', 'ro', 'ru', 'sd', 'si', 'sk', 'sl', 'so', 'sq', 'sr', 'ss', 'su', 'sv', 'sw', 'ta', 'th', 'tl', 'tn', 'tr', 'uk', 'ur', 'uz', 'vi', 'wo', 'xh', 'yi', 'yo', 'zh', 'zu'])\n"
     ]
    }
   ],
   "source": [
    "model_name = \"facebook/m2m100_418M\"\n",
    "tokenizer = M2M100Tokenizer.from_pretrained(model_name)\n",
    "print(tokenizer.lang_code_to_id.keys())"
   ]
  },
  {
   "cell_type": "code",
   "execution_count": null,
   "id": "8a6b9eb1-5403-43ed-adfb-f1eb06233806",
   "metadata": {},
   "outputs": [],
   "source": [
    "# en (english)\n",
    "# hi (hindi)\n",
    "# ko (korean)\n",
    "# fr (french)\n",
    "# es (spanish)\n",
    "# bn (bengali)\n",
    "# ta (tamil)\n",
    "# de (German)"
   ]
  }
 ],
 "metadata": {
  "kernelspec": {
   "display_name": "Python 3 (ipykernel)",
   "language": "python",
   "name": "python3"
  },
  "language_info": {
   "codemirror_mode": {
    "name": "ipython",
    "version": 3
   },
   "file_extension": ".py",
   "mimetype": "text/x-python",
   "name": "python",
   "nbconvert_exporter": "python",
   "pygments_lexer": "ipython3",
   "version": "3.12.4"
  }
 },
 "nbformat": 4,
 "nbformat_minor": 5
}
