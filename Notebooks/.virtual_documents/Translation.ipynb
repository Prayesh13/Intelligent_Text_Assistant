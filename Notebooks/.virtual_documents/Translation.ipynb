from transformers import M2M100ForConditionalGeneration, M2M100Tokenizer


def translate_m2m(text, src_lang="en", tgt_lang="gu"):
    model_name = "facebook/m2m100_418M"
    tokenizer = M2M100Tokenizer.from_pretrained(model_name)
    model = M2M100ForConditionalGeneration.from_pretrained(model_name)

    tokenizer.src_lang = src_lang
    inputs = tokenizer(text, return_tensors="pt")

    generated_tokens = model.generate(**inputs, forced_bos_token_id=tokenizer.get_lang_id(tgt_lang))
    return tokenizer.decode(generated_tokens[0], skip_special_tokens=True)


print(translate_m2m("Hello, how are you?", src_lang="en", tgt_lang="hi"))


text = "Machine learning is a type of artificial intelligence (AI) that allows systems to learn and improve from data without being explicitly programmed"


print("\n\n*******************************************\n\n")
print(translate_m2m(text, src_lang="en", tgt_lang="hi"))
print("\n\n*******************************************\n\n")


text = "Machine learning is a type of artificial intelligence (AI) that allows systems to learn and improve from data without being explicitly programmed"

print("\n\n*******************************************\n\n")
print(translate_m2m(text, src_lang="en", tgt_lang="fr"))
print("\n\n*******************************************\n\n")


text = "Machine learning is a type of artificial intelligence (AI) that allows systems to learn and improve from data without being explicitly programmed"

print("\n\n*******************************************\n\n")
print(translate_m2m(text, src_lang="en", tgt_lang="ko"))
print("\n\n*******************************************\n\n")


text = "기계 학습은 시스템이 명시적으로 프로그래밍되지 않고 데이터를 배우고 개선할 수 있는 유형의 인공 지능(AI)입니다."

print("\n\n*******************************************\n\n")
print(translate_m2m(text, src_lang="ko", tgt_lang="en"))
print("\n\n*******************************************\n\n")



